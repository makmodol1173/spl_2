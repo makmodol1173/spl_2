{
 "cells": [
  {
   "cell_type": "code",
   "execution_count": 7,
   "metadata": {},
   "outputs": [],
   "source": [
    "!pip install pdfminer.six"
   ]
  },
  {
   "cell_type": "code",
   "execution_count": 8,
   "metadata": {},
   "outputs": [
    {
     "name": "stderr",
     "output_type": "stream",
     "text": [
      "<>:41: SyntaxWarning: invalid escape sequence '\\P'\n",
      "<>:41: SyntaxWarning: invalid escape sequence '\\P'\n",
      "C:\\Users\\makmo\\AppData\\Local\\Temp\\ipykernel_3172\\3032726465.py:41: SyntaxWarning: invalid escape sequence '\\P'\n",
      "  file_path = 'P:\\Program\\SPL_2 practice\\Resume Parser\\AlexJohnsonResume.pdf'\n"
     ]
    },
    {
     "ename": "ModuleNotFoundError",
     "evalue": "No module named 'pdfminer'",
     "output_type": "error",
     "traceback": [
      "\u001b[1;31m---------------------------------------------------------------------------\u001b[0m",
      "\u001b[1;31mModuleNotFoundError\u001b[0m                       Traceback (most recent call last)",
      "Cell \u001b[1;32mIn[8], line 2\u001b[0m\n\u001b[0;32m      1\u001b[0m \u001b[38;5;28;01mimport\u001b[39;00m \u001b[38;5;21;01mre\u001b[39;00m\n\u001b[1;32m----> 2\u001b[0m \u001b[38;5;28;01mfrom\u001b[39;00m \u001b[38;5;21;01mpdfminer\u001b[39;00m\u001b[38;5;21;01m.\u001b[39;00m\u001b[38;5;21;01mhigh_level\u001b[39;00m \u001b[38;5;28;01mimport\u001b[39;00m extract_text\n\u001b[0;32m      3\u001b[0m \u001b[38;5;28;01mimport\u001b[39;00m \u001b[38;5;21;01mnltk\u001b[39;00m\n\u001b[0;32m      5\u001b[0m nltk\u001b[38;5;241m.\u001b[39mdownload(\u001b[38;5;124m'\u001b[39m\u001b[38;5;124mstopwords\u001b[39m\u001b[38;5;124m'\u001b[39m)\n",
      "\u001b[1;31mModuleNotFoundError\u001b[0m: No module named 'pdfminer'"
     ]
    }
   ],
   "source": [
    "import re\n",
    "from pdfminer.high_level import extract_text\n",
    "import nltk\n",
    "\n",
    "nltk.download('stopwords')\n",
    "\n",
    "def extract_text_from_pdf(file_path):\n",
    "    try:\n",
    "        text = extract_text(file_path)\n",
    "        print(\"Extracted Text:\")\n",
    "        print(text)\n",
    "        return text\n",
    "    except Exception as e:\n",
    "        print(f\"Error encountered: {e}\")\n",
    "        return None\n",
    "\n",
    "def extract_skills(text):\n",
    "    skills_pattern = r\"(UI Design|Data Analyst|Master's Degree in Computer Science|Bachelor's Degree in Computer Science|WordPress|Elementor|WPBakery|Web Development|HTML|CSS|PHP|SQL|React|Javascript|Typescript|Docker|Kubernets|Git|MongoDB)\"\n",
    "\n",
    "    skills = []\n",
    "\n",
    "    summary_match = re.search(r\"SUMMARY\\s+(.*?)\\s+EXPERIENCE\", text, re.DOTALL)\n",
    "    if summary_match:\n",
    "        summary_text = summary_match.group(1)\n",
    "        skills.extend(re.findall(skills_pattern, summary_text))\n",
    "\n",
    "    experience_match = re.search(r\"EXPERIENCE\\s+(.*?)\\s+EDUCATION\", text, re.DOTALL)\n",
    "    if experience_match:\n",
    "        experience_text = experience_match.group(1)\n",
    "        skills.extend(re.findall(skills_pattern, experience_text))\n",
    "\n",
    "    education_match = re.search(r\"EDUCATION\\s+(.*?)\\s+STRENGTHS\", text, re.DOTALL)\n",
    "    if education_match:\n",
    "        education_text = education_match.group(1)\n",
    "        skills.extend(re.findall(skills_pattern, education_text))\n",
    "\n",
    "    # Remove duplicates and return unique skills\n",
    "    skills = list(set(skills))  \n",
    "    return skills\n",
    "\n",
    "file_path = 'P:\\Program\\SPL_2 practice\\Resume Parser\\AlexJohnsonResume.pdf'  \n",
    "\n",
    "extracted_text = extract_text_from_pdf(file_path)\n",
    "\n",
    "if extracted_text:\n",
    "    extracted_skills = extract_skills(extracted_text)\n",
    "    if extracted_skills:\n",
    "        print(\"\\nExtracted Skills:\")\n",
    "        for skill in extracted_skills:\n",
    "            print(skill)\n",
    "    else:\n",
    "        print(\"No skills extracted. Check regex patterns and PDF content.\")\n",
    "else:\n",
    "    print(\"No text extracted from the PDF. Check PDF extraction process.\")\n"
   ]
  }
 ],
 "metadata": {
  "kernelspec": {
   "display_name": "Python 3",
   "language": "python",
   "name": "python3"
  },
  "language_info": {
   "codemirror_mode": {
    "name": "ipython",
    "version": 3
   },
   "file_extension": ".py",
   "mimetype": "text/x-python",
   "name": "python",
   "nbconvert_exporter": "python",
   "pygments_lexer": "ipython3",
   "version": "3.12.4"
  }
 },
 "nbformat": 4,
 "nbformat_minor": 2
}
